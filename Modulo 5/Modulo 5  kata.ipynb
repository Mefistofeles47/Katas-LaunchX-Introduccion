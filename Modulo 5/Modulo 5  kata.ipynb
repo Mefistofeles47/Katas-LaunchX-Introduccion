{
 "cells": [
  {
   "cell_type": "markdown",
   "metadata": {},
   "source": [
    "# Ejercicio1 - Utilizar operadores aritméticos"
   ]
  },
  {
   "cell_type": "markdown",
   "metadata": {},
   "source": [
    "Datos"
   ]
  },
  {
   "cell_type": "code",
   "execution_count": 19,
   "metadata": {},
   "outputs": [],
   "source": [
    "tierra = 149597870\n",
    "jupiter = 778547200"
   ]
  },
  {
   "cell_type": "markdown",
   "metadata": {},
   "source": [
    "Se calcula la distancia entre planetas en kilometros\n",
    "."
   ]
  },
  {
   "cell_type": "code",
   "execution_count": 20,
   "metadata": {},
   "outputs": [
    {
     "name": "stdout",
     "output_type": "stream",
     "text": [
      "La distancia entre la Tierra y Jupiter en kilometros es de : 628949330 km.\n"
     ]
    }
   ],
   "source": [
    "distancia = jupiter - tierra\n",
    "print(\"La distancia entre la Tierra y Jupiter en kilometros es de :\", distancia, \"km.\")"
   ]
  },
  {
   "cell_type": "markdown",
   "metadata": {},
   "source": [
    "Se convierte a millas."
   ]
  },
  {
   "cell_type": "code",
   "execution_count": 21,
   "metadata": {},
   "outputs": [
    {
     "name": "stdout",
     "output_type": "stream",
     "text": [
      "La distancia entre la Tierra y Jupiter en millas es de : 390577533.93 millas.\n"
     ]
    }
   ],
   "source": [
    "distanciam = distancia * 0.621\n",
    "print(\"La distancia entre la Tierra y Jupiter en millas es de :\",distanciam,\"millas.\" )"
   ]
  },
  {
   "cell_type": "markdown",
   "metadata": {},
   "source": [
    "# Ejercicio 2: convierte cadenas en números y usa valores absolutos"
   ]
  },
  {
   "cell_type": "markdown",
   "metadata": {},
   "source": [
    "Crear una aplicación para trabajar con números y entrada de usuario.\n",
    "\n",
    "Se leen los datos."
   ]
  },
  {
   "cell_type": "code",
   "execution_count": 22,
   "metadata": {},
   "outputs": [],
   "source": [
    "planeta1 = input('Introduzca la distancia del sol al primer planeta.')\n",
    "planeta2 = input('Introduzca la distancia del el sol al segundo planeta.')"
   ]
  },
  {
   "cell_type": "markdown",
   "metadata": {},
   "source": [
    "Se convierten a datos tipo int.\n"
   ]
  },
  {
   "cell_type": "code",
   "execution_count": 23,
   "metadata": {},
   "outputs": [],
   "source": [
    "planeta1 = int(planeta1)\n",
    "planeta2 = int(planeta2)"
   ]
  },
  {
   "cell_type": "markdown",
   "metadata": {},
   "source": [
    "Se calcula la distancia en km y se convierte a valor absoluto.\n"
   ]
  },
  {
   "cell_type": "code",
   "execution_count": 24,
   "metadata": {},
   "outputs": [
    {
     "name": "stdout",
     "output_type": "stream",
     "text": [
      "50300000\n",
      "La distancia entre el primer planeta y el segundo en kilometros es de : 50300000 km.\n"
     ]
    }
   ],
   "source": [
    "distancia = planeta2 - planeta1\n",
    "print(abs(distancia))\n",
    "print(\"La distancia entre el primer planeta y el segundo en kilometros es de :\", distancia, \"km.\")\n"
   ]
  },
  {
   "cell_type": "markdown",
   "metadata": {},
   "source": [
    "Se convierte en millas.\n"
   ]
  },
  {
   "cell_type": "code",
   "execution_count": 25,
   "metadata": {},
   "outputs": [
    {
     "name": "stdout",
     "output_type": "stream",
     "text": [
      "La distancia entre el primer planeta y el segundo en millas es de : 50300000 millas.\n"
     ]
    }
   ],
   "source": [
    "distanciam = distancia * 0.621\n",
    "print(\"La distancia entre el primer planeta y el segundo en millas es de :\", distancia, \"millas.\")"
   ]
  }
 ],
 "metadata": {
  "interpreter": {
   "hash": "4ac061c6dc66fae47db820979dc3f1a40a8e441c38aac26881ecec30a824e883"
  },
  "kernelspec": {
   "display_name": "Python 3.10.1 64-bit",
   "language": "python",
   "name": "python3"
  },
  "language_info": {
   "codemirror_mode": {
    "name": "ipython",
    "version": 3
   },
   "file_extension": ".py",
   "mimetype": "text/x-python",
   "name": "python",
   "nbconvert_exporter": "python",
   "pygments_lexer": "ipython3",
   "version": "3.10.1"
  },
  "orig_nbformat": 4
 },
 "nbformat": 4,
 "nbformat_minor": 2
}
