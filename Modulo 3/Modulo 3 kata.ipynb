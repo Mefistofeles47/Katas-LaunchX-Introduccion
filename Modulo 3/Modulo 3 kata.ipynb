{
 "cells": [
  {
   "cell_type": "markdown",
   "metadata": {},
   "source": [
    "# Ejercicio - Escribir declaraciones if, else, y elif"
   ]
  },
  {
   "cell_type": "markdown",
   "metadata": {},
   "source": [
    "Un asteroide se acerca a 49km/s."
   ]
  },
  {
   "cell_type": "code",
   "execution_count": 1,
   "metadata": {},
   "outputs": [
    {
     "name": "stdout",
     "output_type": "stream",
     "text": [
      "Advertencia: Un asteroide se acerca a la tierra a una velocidad elevada de 49 km/s.\n"
     ]
    }
   ],
   "source": [
    "asteroide = 49\n",
    "advertencia = 0\n",
    "if asteroide > 25 :\n",
    "    advertencia =  True\n",
    "if advertencia == True :\n",
    "    print(\"Advertencia: Un asteroide se acerca a la tierra a una velocidad elevada de \" + str(asteroide) + \" km/s.\")\n",
    "else :\n",
    "    print(\"\")"
   ]
  },
  {
   "cell_type": "markdown",
   "metadata": {},
   "source": [
    "Un asteroide se acerca a 19km/s."
   ]
  },
  {
   "cell_type": "code",
   "execution_count": 2,
   "metadata": {},
   "outputs": [
    {
     "name": "stdout",
     "output_type": "stream",
     "text": [
      "No hay asteroides visibles ahora.\n"
     ]
    }
   ],
   "source": [
    "asteroide = 19\n",
    "if asteroide > 20:\n",
    "    print('Ve al cielo! Se acerca un asteroide!')\n",
    "elif asteroide == 20:\n",
    "    print('Ve al cielo! Se acerca un asteroide!')\n",
    "else:\n",
    "    print('No hay asteroides visibles ahora.')"
   ]
  },
  {
   "cell_type": "markdown",
   "metadata": {},
   "source": [
    "# Ejercicio: Uso de operadores and y or"
   ]
  },
  {
   "cell_type": "markdown",
   "metadata": {},
   "source": [
    "Un asteroide de 30 metros y de velocidad 27km/s."
   ]
  },
  {
   "cell_type": "code",
   "execution_count": 3,
   "metadata": {},
   "outputs": [
    {
     "name": "stdout",
     "output_type": "stream",
     "text": [
      "Advertencia un asteroide peligroso se acerca a la Tierra!\n"
     ]
    }
   ],
   "source": [
    "v_asteroide = 30\n",
    "s_asteroide = 27\n",
    "if v_asteroide > 25 and s_asteroide > 25:\n",
    "    print('Advertencia un asteroide peligroso se acerca a la Tierra!')\n",
    "elif v_asteroide >= 20:\n",
    "    print('Ve al cielo! Se acerca un asteroide!')\n",
    "elif s_asteroide < 25:\n",
    "    print('No hay asteroides visibles ahora.')\n",
    "else:\n",
    "    print('No hay asteroides visibles ahora.')"
   ]
  }
 ],
 "metadata": {
  "interpreter": {
   "hash": "4ac061c6dc66fae47db820979dc3f1a40a8e441c38aac26881ecec30a824e883"
  },
  "kernelspec": {
   "display_name": "Python 3.10.1 64-bit",
   "language": "python",
   "name": "python3"
  },
  "language_info": {
   "codemirror_mode": {
    "name": "ipython",
    "version": 3
   },
   "file_extension": ".py",
   "mimetype": "text/x-python",
   "name": "python",
   "nbconvert_exporter": "python",
   "pygments_lexer": "ipython3",
   "version": "3.10.1"
  },
  "orig_nbformat": 4
 },
 "nbformat": 4,
 "nbformat_minor": 2
}
