{
 "cells": [
  {
   "cell_type": "markdown",
   "metadata": {},
   "source": [
    "# Ejercicio: Uso de funciones en Python\n",
    " Se crea una funcion para leer 3 lecturas de tanque y dar el promedio.\n",
    " "
   ]
  },
  {
   "cell_type": "code",
   "execution_count": 129,
   "metadata": {},
   "outputs": [],
   "source": [
    "def reporte(tanque1, tanque2, tanque3):\n",
    "    promedio = (tanque1 + tanque2 + tanque3) / 3\n",
    "    return f\"\"\"Reporte de Combustible\n",
    "    Tanque 1: {tanque1}%\n",
    "    Tanque 2: {tanque2}%\n",
    "    Tanque 3: {tanque3}% \n",
    "    Promedio: {promedio}%\n",
    "    \"\"\""
   ]
  },
  {
   "cell_type": "markdown",
   "metadata": {},
   "source": [
    "Probamos la funcion con los tanques vacios:"
   ]
  },
  {
   "cell_type": "code",
   "execution_count": 130,
   "metadata": {},
   "outputs": [
    {
     "name": "stdout",
     "output_type": "stream",
     "text": [
      "Reporte de Combustible\n",
      "    Tanque 1: 0%\n",
      "    Tanque 2: 0%\n",
      "    Tanque 3: 0% \n",
      "    Promedio: 0.0%\n",
      "    \n"
     ]
    }
   ],
   "source": [
    "print(reporte(0, 0, 0))"
   ]
  },
  {
   "cell_type": "markdown",
   "metadata": {},
   "source": [
    "Se crea una nueva funcion para obtener el promedio."
   ]
  },
  {
   "cell_type": "code",
   "execution_count": 131,
   "metadata": {},
   "outputs": [],
   "source": [
    "def promedio(values):\n",
    "    total = sum(values)\n",
    "    n = len(values)\n",
    "    return total / n\n"
   ]
  },
  {
   "cell_type": "markdown",
   "metadata": {},
   "source": [
    "Actualizamos el reporte"
   ]
  },
  {
   "cell_type": "code",
   "execution_count": 132,
   "metadata": {},
   "outputs": [],
   "source": [
    "def reporte(tanque1, tanque2, tanque3):\n",
    "    return f\"\"\"Reporte de Combustible\n",
    "    Tanque 1: {tanque1}%\n",
    "    Tanque 2: {tanque2}%\n",
    "    Tanque 3: {tanque3}% \n",
    "    Promedio: {promedio([tanque1, tanque2, tanque3])}%\n",
    "    \"\"\""
   ]
  },
  {
   "cell_type": "markdown",
   "metadata": {},
   "source": [
    "Se prueba con diferentes datos."
   ]
  },
  {
   "cell_type": "code",
   "execution_count": 133,
   "metadata": {},
   "outputs": [
    {
     "name": "stdout",
     "output_type": "stream",
     "text": [
      "Reporte de Combustible\n",
      "    Tanque 1: 15%\n",
      "    Tanque 2: 27%\n",
      "    Tanque 3: 86% \n",
      "    Promedio: 42.666666666666664%\n",
      "    \n",
      "Reporte de Combustible\n",
      "    Tanque 1: 53%\n",
      "    Tanque 2: 23%\n",
      "    Tanque 3: 67% \n",
      "    Promedio: 47.666666666666664%\n",
      "    \n"
     ]
    }
   ],
   "source": [
    "print(reporte(15, 27, 86))\n",
    "print(reporte(53, 23, 67))"
   ]
  },
  {
   "cell_type": "markdown",
   "metadata": {},
   "source": [
    "# Ejercicio 2: Trabajo con argumentos de palabra clave\n",
    "Se forma la funcion para hacer el reporte de la mision.\n"
   ]
  },
  {
   "cell_type": "code",
   "execution_count": 134,
   "metadata": {},
   "outputs": [
    {
     "name": "stdout",
     "output_type": "stream",
     "text": [
      "\n",
      "    Hora de prelanzamiento : 30 min\n",
      "    Tiempo de vuelo: 16030 min\n",
      "    Combustible restante: 69160 gal\n",
      "    Destino :  Marte  \n",
      "    \n"
     ]
    }
   ],
   "source": [
    "def reportemision(horaprelan, tiempovuelo, destino, tanquee, tanquei):\n",
    "    return f\"\"\"\n",
    "    Hora de prelanzamiento : {horaprelan} min\n",
    "    Tiempo de vuelo: {horaprelan + tiempovuelo} min\n",
    "    Combustible restante: {tanquee + tanquei} gal\n",
    "    Destino :  {destino}  \n",
    "    \"\"\"\n",
    "\n",
    "print(reportemision(30, 16000, \"Marte\", 37865, 31295))"
   ]
  },
  {
   "cell_type": "markdown",
   "metadata": {},
   "source": [
    "Se crea una nueva funcion tomando en cuenta las dificultades dadas."
   ]
  },
  {
   "cell_type": "code",
   "execution_count": 135,
   "metadata": {},
   "outputs": [
    {
     "name": "stdout",
     "output_type": "stream",
     "text": [
      "\n",
      "    Tiempo de vuelo: 1630 min\n",
      "    Combustible restante: 69160\n",
      "    Destino Marte\n",
      "    \n"
     ]
    }
   ],
   "source": [
    "def reportemision(destino, *minutes, **fuel_reservoirs):\n",
    "    return f\"\"\"\n",
    "    Tiempo de vuelo: {sum(minutes)} min\n",
    "    Combustible restante: {sum(fuel_reservoirs.values())}\n",
    "    Destino {destino}\n",
    "    \"\"\"\n",
    "\n",
    "print(reportemision(\"Marte\", 30, 1600, tanquee=37865, tanquei=31295))"
   ]
  },
  {
   "cell_type": "markdown",
   "metadata": {},
   "source": [
    "Actualizar funcion para mostrar los nombres de los tanques de combustible."
   ]
  },
  {
   "cell_type": "code",
   "execution_count": 136,
   "metadata": {},
   "outputs": [
    {
     "name": "stdout",
     "output_type": "stream",
     "text": [
      "\n",
      "    Tiempo de vuelo: 1630 min\n",
      "    Combustible restante: 69160\n",
      "    Destino Marte\n",
      "    Tanque externo 37865 galones restantes.\n"
     ]
    }
   ],
   "source": [
    "def reportemision(destino, *minutes, **fuel_reservoirs):\n",
    "    reporte = f\"\"\"\n",
    "    Tiempo de vuelo: {sum(minutes)} min\n",
    "    Combustible restante: {sum(fuel_reservoirs.values())}\n",
    "    Destino {destino}\n",
    "    \"\"\"\n",
    "\n",
    "    for nombre, gal in fuel_reservoirs.items():\n",
    "        reporte += f\"Tanque {nombre} {gal} galones restantes.\"\n",
    "        return reporte\n",
    "\n",
    "print(reportemision(\"Marte\", 30, 1600, externo=37865, interno=31295))"
   ]
  }
 ],
 "metadata": {
  "interpreter": {
   "hash": "4ac061c6dc66fae47db820979dc3f1a40a8e441c38aac26881ecec30a824e883"
  },
  "kernelspec": {
   "display_name": "Python 3.10.1 64-bit",
   "language": "python",
   "name": "python3"
  },
  "language_info": {
   "codemirror_mode": {
    "name": "ipython",
    "version": 3
   },
   "file_extension": ".py",
   "mimetype": "text/x-python",
   "name": "python",
   "nbconvert_exporter": "python",
   "pygments_lexer": "ipython3",
   "version": "3.10.1"
  },
  "orig_nbformat": 4
 },
 "nbformat": 4,
 "nbformat_minor": 2
}
